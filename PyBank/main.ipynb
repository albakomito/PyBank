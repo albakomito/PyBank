{
 "cells": [
  {
   "cell_type": "code",
   "execution_count": 1,
   "id": "5893158b-29aa-4351-997c-c2bd6fcfdab8",
   "metadata": {},
   "outputs": [],
   "source": [
    "# Import numpy financial \n",
    "import numpy_financial"
   ]
  },
  {
   "cell_type": "code",
   "execution_count": 2,
   "id": "5e6b989d-316e-4824-9adc-e25c450f11bb",
   "metadata": {},
   "outputs": [],
   "source": [
    "# Importing CSV\n",
    "import os\n",
    "import csv"
   ]
  },
  {
   "cell_type": "code",
   "execution_count": 3,
   "id": "d63cadce-9aa7-4b10-b568-8e5807b956e6",
   "metadata": {},
   "outputs": [],
   "source": [
    "# Setting path for input file \n",
    "path = 'budget_data.csv'"
   ]
  },
  {
   "cell_type": "code",
   "execution_count": 4,
   "id": "905367f7-abea-4f53-97ff-f90c1cb130a6",
   "metadata": {},
   "outputs": [],
   "source": [
    "# Declare the variables\n",
    "total_months = 0\n",
    "month_of_change = []\n",
    "profit_change_list = []\n",
    "greatest_increase_profit = [\"\", 0]\n",
    "greatest_decrease_profit = [\"\", 9999999999999999999]\n",
    "total_profit = 0"
   ]
  },
  {
   "cell_type": "code",
   "execution_count": 5,
   "id": "305311ad-8adc-4e21-8e17-60a52ef66e97",
   "metadata": {},
   "outputs": [
    {
     "name": "stdout",
     "output_type": "stream",
     "text": [
      "Financial Analysis\n",
      "----------------------------\n",
      "Total Months: 86\n",
      "Total: $38382578\n",
      "Average Change: $-2315.12\n",
      "Greatest Increase in Profits: Feb-2012 ($1926159)\n",
      "Greatest Decrease in Profits: Sep-2013 ($-2196167)\n",
      "\n"
     ]
    }
   ],
   "source": [
    "# Read and convert csv into a list of dictionaries\n",
    "with open('budget_data.csv') as financial_data:\n",
    "    reader = csv.reader(financial_data)\n",
    "\n",
    "    # Read the header row\n",
    "    header = next(reader)\n",
    "    \n",
    "    # Extract first row to avoid appending to profit_change_list\n",
    "    first_row = next(reader)\n",
    "    total_months += 1\n",
    "    total_profit += int(first_row[1])\n",
    "    previous_profit = int(first_row[1])\n",
    "\n",
    "    for row in reader:\n",
    "    \n",
    "    # Count total number of months in dataset\n",
    "        total_months += 1\n",
    "        \n",
    "    # Calculate net total amount of Profit/Losses over the entire period.\n",
    "        total_profit += int(row[1])\n",
    "        \n",
    "    # Calculate change in Profit/Losses over the entire period      \n",
    "        profit_change = int(row[1]) - previous_profit\n",
    "        previous_profit = int(row[1])\n",
    "        profit_change_list += [profit_change]\n",
    "        month_of_change += [row[0]]\n",
    "        \n",
    "    # Calculate greatest increase in profits (date and amount) over the entire period\n",
    "        if profit_change>greatest_increase_profit[1]:\n",
    "            greatest_increase_profit[0] = row[0]\n",
    "            greatest_increase_profit[1] = profit_change\n",
    "    \n",
    "    # Calculate greatest decrease in profits (date and amount) over the entire period\n",
    "        if profit_change<greatest_decrease_profit[1]:\n",
    "            greatest_decrease_profit[0] = row[0]   \n",
    "            greatest_decrease_profit[1] = profit_change\n",
    "            \n",
    "    # Calculate the average of the changes in Profit/Losses over the entire period        \n",
    "    average_profit = sum(profit_change_list)/len(profit_change_list)         \n",
    "    \n",
    "    # Output summary\n",
    "    output = (\n",
    "     f\"Financial Analysis\\n\"\n",
    "     f\"----------------------------\\n\"\n",
    "     f\"Total Months: {total_months}\\n\"\n",
    "     f\"Total: ${total_profit}\\n\"\n",
    "     f\"Average Change: ${average_profit:.2f}\\n\"\n",
    "     f\"Greatest Increase in Profits: {greatest_increase_profit[0]} (${greatest_increase_profit[1]})\\n\"\n",
    "     f\"Greatest Decrease in Profits: {greatest_decrease_profit[0]} (${greatest_decrease_profit[1]})\\n\")\n",
    "   \n",
    "    # Print the output (to terminal)\n",
    "    print(output)\n"
   ]
  },
  {
   "cell_type": "code",
   "execution_count": 6,
   "id": "afb9e67d-c5fc-4498-9719-a2c846eb0fe6",
   "metadata": {},
   "outputs": [],
   "source": [
    "# Define file to output \n",
    "file_to_output = \"PyBankOutput.txt\""
   ]
  },
  {
   "cell_type": "code",
   "execution_count": 7,
   "id": "77ddadab-6a7a-45fa-af49-0d6e4976802e",
   "metadata": {},
   "outputs": [],
   "source": [
    "# Export output to text file\n",
    "with open(file_to_output, \"w\") as txt_file:\n",
    "   txt_file.write(output)"
   ]
  }
 ],
 "metadata": {
  "kernelspec": {
   "display_name": "Python 3 (ipykernel)",
   "language": "python",
   "name": "python3"
  },
  "language_info": {
   "codemirror_mode": {
    "name": "ipython",
    "version": 3
   },
   "file_extension": ".py",
   "mimetype": "text/x-python",
   "name": "python",
   "nbconvert_exporter": "python",
   "pygments_lexer": "ipython3",
   "version": "3.9.7"
  }
 },
 "nbformat": 4,
 "nbformat_minor": 5
}
